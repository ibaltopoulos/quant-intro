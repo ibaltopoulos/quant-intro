{
 "cells": [
  {
   "cell_type": "markdown",
   "metadata": {},
   "source": [
    "## Code blocks\n",
    "* **Lines and indentation:** Python uses line indentation for blocks of code. The number of indentation is variable but it is strictly enforced.\n",
    "* **Multiline statements:** They are continued with the (\\) character. Statements within [], {} or () do not need the continuation character\n",
    "* **Quotation:** single ('), double (\") or triple (''', \"\"\") for string literals. Triple quotes are used to span the string across multiple lines.\n",
    "* **Comments:** A hash (#) not inside a string literal begins a comment.\n",
    "* **Multiple statements on a single line:** Each line is a statement, however, the semicolon (;) allows multiple statements on a single line, provided that neither statements starts a new code block."
   ]
  },
  {
   "cell_type": "markdown",
   "metadata": {},
   "source": [
    "## Variables\n",
    "* **Basics:** Variables are case sensitive, they can start with a letter or an underscore\n",
    "* **Conventions:**\n",
    "    * **Class names:** Start with uppercase letter\n",
    "    * **Underscores:** \n",
    "        * 1 underscore, the identifier is private\n",
    "        * 2 underscores, strongly private identifier\n",
    "        * 2 leading, 2 trailing underscores, language-defined special name\n",
    "    * **Reserved words:** There are a few\n",
    "* **Assignment:** The equals (=) sign is used for assignment, and multiple assignment is allowed"
   ]
  },
  {
   "cell_type": "markdown",
   "metadata": {},
   "source": [
    "## Standard Data types\n",
    "* **Numbers:** (int, long, float, complex)\n",
    "* **String:** \n",
    "    * **Plain and unicode:** They are different, need more research on this\n",
    "    * **Operators:** plus (+) is used for concatenation, star (*) is used for repetition, and slice [] and [:] with indexes starting at 0 allow taking substrings\n",
    "* **List:** Comma separated and enclosed in square brackets []. Items in the list can be of different data type. + is concatenation, * is repetition\n",
    "* **Tuple:** They are immutable and are enclosed within parentheses ()\n",
    "* **Dictionary:** A hashtable of key value pairs. They are enclosed by curly braces {} and values can be accessed using square brackets []. The key can be any python type but it's usually a string or number. The value can be any arbitrary python object. Elements are unordered."
   ]
  },
  {
   "cell_type": "markdown",
   "metadata": {},
   "source": [
    "## Functions\n",
    "* **Syntax:**\n",
    "```def funcName( parameters ):\n",
    "      \"function doc string\"\n",
    "      function_suite\n",
    "      return [expression]\n",
    "```\n",
    "* **Pass by reference**\n",
    "* **Function arguments**\n",
    "    * **Required arguments:** This is the conventional way of using positional arguments.\n",
    "    * **Keyword arguments:** Named arguments can appear out of order, called by using ```funName(p = \"value\")```\n",
    "    * **Default argument:** Default values are provided during the function declaration\n",
    "    * **Variable-length arguments:** The asterisk placed before the variable name that holds the values of all nonkeyword variable arguments. The tuple is empty if no additional arguments are specified during the function call.\n",
    "    ```def funcName( [named_args,] *var_args_tuple ):\n",
    "          \"function doc string\"\n",
    "          function_suite\n",
    "          return [expression]\n",
    "    ```\n",
    "\n",
    "## Anonymous functions (lambda)\n",
    "* **Syntax:**\n",
    "```lambda [arg1 [, arg2, … argm]]: expression```"
   ]
  },
  {
   "cell_type": "markdown",
   "metadata": {},
   "source": [
    "Flow control\n",
    "  • Conditionals\n",
    "    • If <expr>:\u000b",
    "    <indented block>\u000b",
    "elif <expr>:\u000b",
    "    <indented block>\u000b",
    "else:\u000b",
    "    <indented block>\n",
    "  • Loops\n",
    "    • While <expr>:\u000b",
    "    <indented block>\u000b",
    "loop can contain break, continue\n",
    "    • for <name> in <iterable>:\u000b",
    "    <indented block>\u000b",
    "loop can contain break, continue\u000b",
    "\u000b"
   ]
  },
  {
   "cell_type": "code",
   "execution_count": null,
   "metadata": {
    "collapsed": true
   },
   "outputs": [],
   "source": []
  }
 ],
 "metadata": {
  "kernelspec": {
   "display_name": "Python 3",
   "language": "python",
   "name": "python3"
  },
  "language_info": {
   "codemirror_mode": {
    "name": "ipython",
    "version": 3
   },
   "file_extension": ".py",
   "mimetype": "text/x-python",
   "name": "python",
   "nbconvert_exporter": "python",
   "pygments_lexer": "ipython3",
   "version": "3.6.0"
  }
 },
 "nbformat": 4,
 "nbformat_minor": 2
}
