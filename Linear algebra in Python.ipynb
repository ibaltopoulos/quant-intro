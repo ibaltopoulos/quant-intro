{
 "cells": [
  {
   "cell_type": "code",
   "execution_count": 13,
   "metadata": {
    "collapsed": true
   },
   "outputs": [],
   "source": [
    "%matplotlib inline\n",
    "import numpy as np\n",
    "import matplotlib.pyplot as plt\n",
    "import seaborn as sbn\n",
    "from scipy import linalg, sparse"
   ]
  },
  {
   "cell_type": "code",
   "execution_count": 22,
   "metadata": {
    "collapsed": false
   },
   "outputs": [
    {
     "name": "stdout",
     "output_type": "stream",
     "text": [
      "<class 'list'>\n",
      "<class 'numpy.ndarray'>\n"
     ]
    },
    {
     "data": {
      "text/plain": [
       "(10,)"
      ]
     },
     "execution_count": 22,
     "metadata": {},
     "output_type": "execute_result"
    }
   ],
   "source": [
    "l = list(range(10))\n",
    "print (type(l))\n",
    "\n",
    "v = np.array(l)\n",
    "print(type(v))\n",
    "v.shape"
   ]
  },
  {
   "cell_type": "code",
   "execution_count": 12,
   "metadata": {
    "collapsed": false
   },
   "outputs": [
    {
     "data": {
      "text/plain": [
       "matrix([[<zip object at 0x000000000AF8F7C8>]], dtype=object)"
      ]
     },
     "execution_count": 12,
     "metadata": {},
     "output_type": "execute_result"
    }
   ],
   "source": [
    "v = np.matrix(zip(range(5), range(5,10)))\n",
    "v\n",
    "\n"
   ]
  },
  {
   "cell_type": "code",
   "execution_count": 21,
   "metadata": {
    "collapsed": false
   },
   "outputs": [
    {
     "name": "stdout",
     "output_type": "stream",
     "text": [
      "(2, 3)\n"
     ]
    },
    {
     "data": {
      "text/plain": [
       "matrix([[3, 4, 5],\n",
       "        [5, 6, 7]])"
      ]
     },
     "execution_count": 21,
     "metadata": {},
     "output_type": "execute_result"
    }
   ],
   "source": [
    "M = np.matrix([[3,4, 5], [5,6, 7]])\n",
    "print(M.shape)\n",
    "M\n",
    "\n"
   ]
  },
  {
   "cell_type": "markdown",
   "metadata": {},
   "source": [
    "#### Creating matrices"
   ]
  },
  {
   "cell_type": "code",
   "execution_count": 50,
   "metadata": {
    "collapsed": false,
    "scrolled": true
   },
   "outputs": [
    {
     "name": "stdout",
     "output_type": "stream",
     "text": [
      "[[ 1.  1.]\n",
      " [ 1.  1.]\n",
      " [ 1.  1.]]\n",
      "[[ 1.  1.]\n",
      " [ 1.  1.]\n",
      " [ 1.  1.]]\n",
      "[[ 0.  0.]\n",
      " [ 0.  0.]\n",
      " [ 0.  0.]]\n",
      "[[7 7]\n",
      " [7 7]\n",
      " [7 7]]\n",
      "[[ 0.73067266  0.05684699]\n",
      " [ 0.34235785  0.42729677]]\n",
      "[10 15 20]\n",
      "[ 0.    0.25  0.5   0.75  1.    1.25  1.5   1.75  2.  ]\n"
     ]
    },
    {
     "data": {
      "text/plain": [
       "array([[ 1.,  0.,  0.,  0.],\n",
       "       [ 0.,  1.,  0.,  0.],\n",
       "       [ 0.,  0.,  1.,  0.],\n",
       "       [ 0.,  0.,  0.,  1.]])"
      ]
     },
     "execution_count": 50,
     "metadata": {},
     "output_type": "execute_result"
    }
   ],
   "source": [
    "shape_2d = (3,2) # 3 rows by 2 columns\n",
    "print(np.ones(shape_2d))    # Create an array of ones\n",
    "print(np.empty(shape_2d))   # Create an empty array\n",
    "print(np.zeros(shape_2d))   # Create an array of zeros\n",
    "print(np.full(shape_2d, 7, dtype=np.int32))  # Create an array filled with value\n",
    "print(np.random.random((2,2))) # Create an array with random values\n",
    "\n",
    "# 3-dimensional arrays\n",
    "shape_3d = (2,3,4)\n",
    "np.zeros(shape_3d,dtype=np.int16)\n",
    "\n",
    "# Ranges of values \n",
    "print(np.arange(10, 25,5)) # Array of values from 10 to 25 with 5 increment\n",
    "print(np.linspace(0,2,9))  #Array of values from 0 to 2 with 9 elements\n",
    "\n",
    "\n",
    "# Identity matrix\n",
    "np.identity(4)\n",
    "np.eye(4)"
   ]
  },
  {
   "cell_type": "markdown",
   "metadata": {},
   "source": [
    "#### Matrix operations\n",
    "\n",
    "* The addition is the pointwise sum of the elements in the corresponding positions.\n",
    "* The scalar multiplication is performed by multiplying every element of the matrix with the scalar."
   ]
  },
  {
   "cell_type": "code",
   "execution_count": 55,
   "metadata": {
    "collapsed": false
   },
   "outputs": [
    {
     "name": "stdout",
     "output_type": "stream",
     "text": [
      "[[  5.    0.5]\n",
      " [  4.   10. ]\n",
      " [  3.    2. ]]\n",
      "[[ 3  0]\n",
      " [ 6 15]\n",
      " [ 9  3]]\n"
     ]
    }
   ],
   "source": [
    "A = np.array([[1,0],\n",
    "              [2,5],\n",
    "              [3,1]])\n",
    "B = np.array([[4,0.5],\n",
    "              [2,5],\n",
    "              [0,1]])\n",
    "print(A + B)\n",
    "print(3 * A)"
   ]
  },
  {
   "cell_type": "markdown",
   "metadata": {},
   "source": [
    "* Matrix multiplication **is not** commutative in general, i.e. $$A \\times B \\neq B \\times A$$\n",
    "* Matrix multiplication **is** associative, i.e. $$ A \\times (B \\times C) = (A \\times B) \\times C$$"
   ]
  },
  {
   "cell_type": "markdown",
   "metadata": {},
   "source": [
    "* **Inverse** If $A$ is an $m \\times m$ (square) matrix, and if it has an inverse, then $$A (A^{-1}) = A^{-1} A = I $$\n",
    "Not all matrices have inverses, and the intuition is that those matrices are too close to zero (similar to computing the inverse of a scalar, e.g. the inverse of 3 is 1/3, but the inverse of 0 doesn't exist). The matrices that don't have an inverse are called \"singular\" or \"degenerate\"\n",
    "\n",
    "* **Transpose** LEt $A$ be an $m \\times n$ matrix and let $B = A^T$. Then $B$ is a $n \\times m$ matrix such that $B_{ij} = A_{ji}$"
   ]
  }
 ],
 "metadata": {
  "kernelspec": {
   "display_name": "Python 3",
   "language": "python",
   "name": "python3"
  },
  "language_info": {
   "codemirror_mode": {
    "name": "ipython",
    "version": 3
   },
   "file_extension": ".py",
   "mimetype": "text/x-python",
   "name": "python",
   "nbconvert_exporter": "python",
   "pygments_lexer": "ipython3",
   "version": "3.6.0"
  }
 },
 "nbformat": 4,
 "nbformat_minor": 2
}
