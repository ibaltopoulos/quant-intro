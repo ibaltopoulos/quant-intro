{
 "cells": [
  {
   "cell_type": "markdown",
   "metadata": {},
   "source": [
    "# Data Structures"
   ]
  },
  {
   "cell_type": "markdown",
   "metadata": {},
   "source": [
    "## A Stack implementation"
   ]
  },
  {
   "cell_type": "code",
   "execution_count": 6,
   "metadata": {
    "collapsed": false
   },
   "outputs": [
    {
     "name": "stdout",
     "output_type": "stream",
     "text": [
      "True\n",
      "9\n",
      "9\n"
     ]
    }
   ],
   "source": [
    "class Stack(object):\n",
    "    def __init__(self):\n",
    "        self.stack = []\n",
    "        \n",
    "    def push(self, value):\n",
    "        self.stack.append(value)\n",
    "    \n",
    "    def pop(self):\n",
    "        if self.stack:\n",
    "            value = self.stack.pop()\n",
    "            return value\n",
    "        else:\n",
    "            return None\n",
    "    def size(self):\n",
    "        return len(self.stack)\n",
    "    \n",
    "    def isEmpty(self):\n",
    "        return self.stack == []\n",
    "\n",
    "q = Stack()\n",
    "\n",
    "print(q.isEmpty())\n",
    "\n",
    "for i in range(1, 10):\n",
    "    q.push(i)\n",
    "print(q.size())\n",
    "print(q.pop())"
   ]
  },
  {
   "cell_type": "markdown",
   "metadata": {},
   "source": [
    "## Abstract Base class in Python\n",
    "Import the ABCMeta package. Use the ABCMeta metaclass in the class declaration, and then decorate the methods"
   ]
  },
  {
   "cell_type": "code",
   "execution_count": 9,
   "metadata": {
    "collapsed": false
   },
   "outputs": [
    {
     "ename": "TypeError",
     "evalue": "Can't instantiate abstract class Seq with abstract methods __len__",
     "output_type": "error",
     "traceback": [
      "\u001b[0;31m---------------------------------------------------------------------------\u001b[0m",
      "\u001b[0;31mTypeError\u001b[0m                                 Traceback (most recent call last)",
      "\u001b[0;32m<ipython-input-9-071a74fd79ff>\u001b[0m in \u001b[0;36m<module>\u001b[0;34m()\u001b[0m\n\u001b[1;32m      7\u001b[0m     \u001b[1;32mdef\u001b[0m \u001b[0m__len__\u001b[0m\u001b[1;33m(\u001b[0m\u001b[0mself\u001b[0m\u001b[1;33m)\u001b[0m\u001b[1;33m:\u001b[0m\u001b[1;33m\u001b[0m\u001b[0m\n\u001b[1;32m      8\u001b[0m         \u001b[1;34m\"\"\"Returns the length of the sequence\"\"\"\u001b[0m\u001b[1;33m\u001b[0m\u001b[0m\n\u001b[0;32m----> 9\u001b[0;31m \u001b[0ms\u001b[0m \u001b[1;33m=\u001b[0m \u001b[0mSeq\u001b[0m\u001b[1;33m(\u001b[0m\u001b[1;33m)\u001b[0m\u001b[1;33m\u001b[0m\u001b[0m\n\u001b[0m",
      "\u001b[0;31mTypeError\u001b[0m: Can't instantiate abstract class Seq with abstract methods __len__"
     ]
    }
   ],
   "source": [
    "from abc import ABCMeta, abstractmethod\n",
    "\n",
    "class Seq(metaclass=ABCMeta):\n",
    "    \"\"\"Sequence abstract class\"\"\"\n",
    "    \n",
    "    @abstractmethod\n",
    "    def __len__(self):\n",
    "        \"\"\"Returns the length of the sequence\"\"\"\n",
    "s = Seq()"
   ]
  },
  {
   "cell_type": "markdown",
   "metadata": {},
   "source": [
    "## Static variable "
   ]
  },
  {
   "cell_type": "code",
   "execution_count": 15,
   "metadata": {
    "collapsed": false
   },
   "outputs": [
    {
     "name": "stdout",
     "output_type": "stream",
     "text": [
      "5\n",
      "5\n",
      "5\n"
     ]
    }
   ],
   "source": [
    "class BaseClass():\n",
    "    STATIC_VALUE = 5\n",
    "\n",
    "class SubClass(BaseClass):\n",
    "    pass\n",
    "\n",
    "s = SubClass()\n",
    "print(s.STATIC_VALUE)\n",
    "\n",
    "print(SubClass.STATIC_VALUE)\n",
    "print(BaseClass.STATIC_VALUE)"
   ]
  },
  {
   "cell_type": "markdown",
   "metadata": {},
   "source": [
    "## Binary Search"
   ]
  },
  {
   "cell_type": "code",
   "execution_count": 39,
   "metadata": {
    "collapsed": false
   },
   "outputs": [
    {
     "name": "stdout",
     "output_type": "stream",
     "text": [
      "5\n",
      "Element not found\n",
      "5\n",
      "Element not found\n"
     ]
    }
   ],
   "source": [
    "l = [1, 4, 5, 6, 7, 9, 11]\n",
    "len(l)\n",
    "l[0]\n",
    "\n",
    "def binarySearchRec(list, target, low, high):\n",
    "    if low > high:\n",
    "        return \"Element not found\"\n",
    "    \n",
    "    mid = (low + high) // 2\n",
    "    if target == list[mid]:\n",
    "        return mid\n",
    "    elif target < list[mid]:\n",
    "        return binarySearchRec(list, target, low, mid - 1)\n",
    "    else:\n",
    "        return binarySearchRec(list, target, mid + 1, high)\n",
    "\n",
    "def binarySearch(list, target):\n",
    "    low = 0\n",
    "    high = len(list) - 1\n",
    "    return binarySearchRec(list, target, low, high)\n",
    "\n",
    "def binarySearchIter(list, target):\n",
    "    low = 0\n",
    "    high = len(list) - 1\n",
    "    while low <= high:\n",
    "        mid = (low + high) // 2\n",
    "        if target == list[mid]:\n",
    "            return mid\n",
    "        elif target < list[mid]:\n",
    "            high = mid - 1\n",
    "        else:\n",
    "            low = mid + 1\n",
    "    return \"Element not found\"\n",
    "\n",
    "print(binarySearch(l, 9))\n",
    "print(binarySearch(l, 8))\n",
    "\n",
    "print(binarySearchIter(l, 9))\n",
    "print(binarySearchIter(l, 8))"
   ]
  },
  {
   "cell_type": "markdown",
   "metadata": {},
   "source": [
    "## Reverse list"
   ]
  },
  {
   "cell_type": "code",
   "execution_count": 42,
   "metadata": {
    "collapsed": false
   },
   "outputs": [
    {
     "name": "stdout",
     "output_type": "stream",
     "text": [
      "[11, 9, 7, 6, 5, 4, 1]\n"
     ]
    }
   ],
   "source": [
    "## Recursive solution\n",
    "def reverseRec(list, low, high):\n",
    "    if low < high - 1:\n",
    "        list[low], list[high] = list[high], list[low]\n",
    "        reverseRec(list, low + 1, high - 1)\n",
    "\n",
    "def reverse(list):\n",
    "    reverseRec(list, 0, len(list)-1)\n",
    "    \n",
    "\n",
    "## Iterative solution\n",
    "def reverseIter(list):\n",
    "    low = 0\n",
    "    high = len(list) - 1\n",
    "    while low < high:\n",
    "        list[low], list[high] = list[high], list[low]\n",
    "        low += 1\n",
    "        high -= 1\n",
    "\n",
    "## Using a stack we can push until its empty, and then pop \n",
    "        \n",
    "l = [1, 4, 5, 6, 7, 9, 11]\n",
    "reverse(l)\n",
    "print(l)"
   ]
  },
  {
   "cell_type": "markdown",
   "metadata": {},
   "source": [
    "## Queue"
   ]
  },
  {
   "cell_type": "code",
   "execution_count": 43,
   "metadata": {
    "collapsed": true
   },
   "outputs": [],
   "source": [
    "## The classic implementation uses a circular array with pointers to the front.\n",
    "\n",
    "class Queue():\n",
    "    def __init__(self):\n",
    "        self._data = []\n",
    "    \n",
    "    def enqueue(self, element):\n",
    "        pass\n",
    "    \n",
    "    def dequeue(self, element):\n",
    "        pass\n",
    "    \n",
    "    def isEmpty(self, element):\n",
    "        pass"
   ]
  },
  {
   "cell_type": "markdown",
   "metadata": {},
   "source": [
    "## Singly linked lists"
   ]
  },
  {
   "cell_type": "code",
   "execution_count": null,
   "metadata": {
    "collapsed": true
   },
   "outputs": [],
   "source": []
  }
 ],
 "metadata": {
  "kernelspec": {
   "display_name": "Python 3",
   "language": "python",
   "name": "python3"
  },
  "language_info": {
   "codemirror_mode": {
    "name": "ipython",
    "version": 3
   },
   "file_extension": ".py",
   "mimetype": "text/x-python",
   "name": "python",
   "nbconvert_exporter": "python",
   "pygments_lexer": "ipython3",
   "version": "3.6.0"
  }
 },
 "nbformat": 4,
 "nbformat_minor": 2
}
